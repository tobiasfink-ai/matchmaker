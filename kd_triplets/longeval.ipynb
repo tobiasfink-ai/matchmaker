{
 "cells": [
  {
   "cell_type": "code",
   "execution_count": 1,
   "metadata": {},
   "outputs": [],
   "source": [
    "import os\n",
    "import json\n",
    "from sklearn.feature_extraction.text import TfidfVectorizer\n",
    "from sklearn.metrics.pairwise import cosine_similarity\n",
    "import re\n",
    "import numpy as np\n",
    "no_num_clean_p = re.compile(r'[^\\w\\s]+|\\d+', re.UNICODE)\n",
    "\n",
    "document_folder = \"/home/tfink/data/kodicare/longeval/longeval-train-v2/publish/English/Documents/Json\"\n",
    "queries_file = \"/home/tfink/data/kodicare/longeval/longeval-train-v2/publish/English/Queries/train.tsv\"\n",
    "qrels_file = \"/home/tfink/data/kodicare/longeval/longeval-train-v2/publish/French/Qrels/train.txt\""
   ]
  },
  {
   "cell_type": "markdown",
   "metadata": {},
   "source": [
    "# triplet generation process\n",
    "* preprocess text\n",
    "* create tf idf vectors\n",
    "    * dictionary\n",
    "    * tf-idf model\n",
    "    * convert to vector? (sparse)\n",
    "* store vectors in faiss (with document id)\n",
    "* store vectors somewhere else because sparse\n",
    "* get positive document (PD) vectors \n",
    "* get approximate nearest neighbors of PD to create negatives"
   ]
  },
  {
   "cell_type": "code",
   "execution_count": 2,
   "metadata": {},
   "outputs": [],
   "source": [
    "def document_text_iterator():\n",
    "    for file in os.listdir(document_folder)[80:100]:\n",
    "        with open(os.path.join(document_folder, file), \"r\") as fp:\n",
    "            data = json.load(fp)\n",
    "            for doc in data:\n",
    "                doc_id = doc['id']\n",
    "                contents = doc['contents']\n",
    "                yield contents\n",
    "\n",
    "\n",
    "def document_iterator():\n",
    "    for file in os.listdir(document_folder)[80:100]:\n",
    "        with open(os.path.join(document_folder, file), \"r\") as fp:\n",
    "            data = json.load(fp)\n",
    "            for doc in data:\n",
    "                doc_id = doc['id']\n",
    "                contents = doc['contents']\n",
    "                yield doc_id, contents\n",
    "\n",
    "\n",
    "def get_document_ids():\n",
    "    doc_ids = []\n",
    "    doc_ids_inv = {}\n",
    "    for file in os.listdir(document_folder)[80:100]:\n",
    "        with open(os.path.join(document_folder, file), \"r\") as fp:\n",
    "            data = json.load(fp)\n",
    "            for doc in data:\n",
    "                doc_id = doc['id']\n",
    "                doc_ids_inv[doc_id] = len(doc_ids)\n",
    "                doc_ids.append(doc_id)\n",
    "    return doc_ids, doc_ids_inv"
   ]
  },
  {
   "cell_type": "code",
   "execution_count": 3,
   "metadata": {},
   "outputs": [],
   "source": [
    "def read_qrels():\n",
    "    relevance_judgements = {}\n",
    "    with open(qrels_file, \"r\") as fp:\n",
    "        for qrel_line in fp:\n",
    "            q_id, _, doc_id, relevance = qrel_line.strip().split()\n",
    "            relevance = int(relevance)\n",
    "            if relevance == 1:\n",
    "                if q_id not in relevance_judgements:\n",
    "                    relevance_judgements[q_id] = set()\n",
    "                relevance_judgements[q_id].add(doc_id)\n",
    "    return relevance_judgements\n",
    "\n",
    "\n",
    "def read_queries():\n",
    "    queries = {}\n",
    "    with open(queries_file, \"r\") as fp:\n",
    "        for queries_line in fp:\n",
    "            q_id, q_text = queries_line.strip().split(sep=\"\\t\")\n",
    "            queries[q_id] = q_text\n",
    "    return queries"
   ]
  },
  {
   "cell_type": "code",
   "execution_count": 4,
   "metadata": {},
   "outputs": [
    {
     "data": {
      "text/html": [
       "<style>#sk-container-id-1 {color: black;background-color: white;}#sk-container-id-1 pre{padding: 0;}#sk-container-id-1 div.sk-toggleable {background-color: white;}#sk-container-id-1 label.sk-toggleable__label {cursor: pointer;display: block;width: 100%;margin-bottom: 0;padding: 0.3em;box-sizing: border-box;text-align: center;}#sk-container-id-1 label.sk-toggleable__label-arrow:before {content: \"▸\";float: left;margin-right: 0.25em;color: #696969;}#sk-container-id-1 label.sk-toggleable__label-arrow:hover:before {color: black;}#sk-container-id-1 div.sk-estimator:hover label.sk-toggleable__label-arrow:before {color: black;}#sk-container-id-1 div.sk-toggleable__content {max-height: 0;max-width: 0;overflow: hidden;text-align: left;background-color: #f0f8ff;}#sk-container-id-1 div.sk-toggleable__content pre {margin: 0.2em;color: black;border-radius: 0.25em;background-color: #f0f8ff;}#sk-container-id-1 input.sk-toggleable__control:checked~div.sk-toggleable__content {max-height: 200px;max-width: 100%;overflow: auto;}#sk-container-id-1 input.sk-toggleable__control:checked~label.sk-toggleable__label-arrow:before {content: \"▾\";}#sk-container-id-1 div.sk-estimator input.sk-toggleable__control:checked~label.sk-toggleable__label {background-color: #d4ebff;}#sk-container-id-1 div.sk-label input.sk-toggleable__control:checked~label.sk-toggleable__label {background-color: #d4ebff;}#sk-container-id-1 input.sk-hidden--visually {border: 0;clip: rect(1px 1px 1px 1px);clip: rect(1px, 1px, 1px, 1px);height: 1px;margin: -1px;overflow: hidden;padding: 0;position: absolute;width: 1px;}#sk-container-id-1 div.sk-estimator {font-family: monospace;background-color: #f0f8ff;border: 1px dotted black;border-radius: 0.25em;box-sizing: border-box;margin-bottom: 0.5em;}#sk-container-id-1 div.sk-estimator:hover {background-color: #d4ebff;}#sk-container-id-1 div.sk-parallel-item::after {content: \"\";width: 100%;border-bottom: 1px solid gray;flex-grow: 1;}#sk-container-id-1 div.sk-label:hover label.sk-toggleable__label {background-color: #d4ebff;}#sk-container-id-1 div.sk-serial::before {content: \"\";position: absolute;border-left: 1px solid gray;box-sizing: border-box;top: 0;bottom: 0;left: 50%;z-index: 0;}#sk-container-id-1 div.sk-serial {display: flex;flex-direction: column;align-items: center;background-color: white;padding-right: 0.2em;padding-left: 0.2em;position: relative;}#sk-container-id-1 div.sk-item {position: relative;z-index: 1;}#sk-container-id-1 div.sk-parallel {display: flex;align-items: stretch;justify-content: center;background-color: white;position: relative;}#sk-container-id-1 div.sk-item::before, #sk-container-id-1 div.sk-parallel-item::before {content: \"\";position: absolute;border-left: 1px solid gray;box-sizing: border-box;top: 0;bottom: 0;left: 50%;z-index: -1;}#sk-container-id-1 div.sk-parallel-item {display: flex;flex-direction: column;z-index: 1;position: relative;background-color: white;}#sk-container-id-1 div.sk-parallel-item:first-child::after {align-self: flex-end;width: 50%;}#sk-container-id-1 div.sk-parallel-item:last-child::after {align-self: flex-start;width: 50%;}#sk-container-id-1 div.sk-parallel-item:only-child::after {width: 0;}#sk-container-id-1 div.sk-dashed-wrapped {border: 1px dashed gray;margin: 0 0.4em 0.5em 0.4em;box-sizing: border-box;padding-bottom: 0.4em;background-color: white;}#sk-container-id-1 div.sk-label label {font-family: monospace;font-weight: bold;display: inline-block;line-height: 1.2em;}#sk-container-id-1 div.sk-label-container {text-align: center;}#sk-container-id-1 div.sk-container {/* jupyter's `normalize.less` sets `[hidden] { display: none; }` but bootstrap.min.css set `[hidden] { display: none !important; }` so we also need the `!important` here to be able to override the default hidden behavior on the sphinx rendered scikit-learn.org. See: https://github.com/scikit-learn/scikit-learn/issues/21755 */display: inline-block !important;position: relative;}#sk-container-id-1 div.sk-text-repr-fallback {display: none;}</style><div id=\"sk-container-id-1\" class=\"sk-top-container\"><div class=\"sk-text-repr-fallback\"><pre>TfidfVectorizer(max_df=0.75, min_df=10)</pre><b>In a Jupyter environment, please rerun this cell to show the HTML representation or trust the notebook. <br />On GitHub, the HTML representation is unable to render, please try loading this page with nbviewer.org.</b></div><div class=\"sk-container\" hidden><div class=\"sk-item\"><div class=\"sk-estimator sk-toggleable\"><input class=\"sk-toggleable__control sk-hidden--visually\" id=\"sk-estimator-id-1\" type=\"checkbox\" checked><label for=\"sk-estimator-id-1\" class=\"sk-toggleable__label sk-toggleable__label-arrow\">TfidfVectorizer</label><div class=\"sk-toggleable__content\"><pre>TfidfVectorizer(max_df=0.75, min_df=10)</pre></div></div></div></div></div>"
      ],
      "text/plain": [
       "TfidfVectorizer(max_df=0.75, min_df=10)"
      ]
     },
     "execution_count": 4,
     "metadata": {},
     "output_type": "execute_result"
    }
   ],
   "source": [
    "tfidf_vect = TfidfVectorizer(max_df=0.75, min_df=10)\n",
    "tfidf_vect.fit(document_text_iterator())"
   ]
  },
  {
   "cell_type": "code",
   "execution_count": 5,
   "metadata": {},
   "outputs": [],
   "source": [
    "x = tfidf_vect.transform(document_text_iterator())"
   ]
  },
  {
   "cell_type": "code",
   "execution_count": 6,
   "metadata": {},
   "outputs": [],
   "source": [
    "doc_ids, doc_ids_inv = get_document_ids()\n",
    "relevance_judgements = read_qrels()"
   ]
  },
  {
   "cell_type": "code",
   "execution_count": 81,
   "metadata": {},
   "outputs": [],
   "source": [
    "def get_top_k_similar(relevant_doc_vector, doc_vecs, relevant_doc_ids, top_k=10, upper_bound=1.0, lower_bound=0.70):\n",
    "    # calculate similarity\n",
    "    sim = cosine_similarity(relevant_doc_vector, doc_vecs)\n",
    "    # set all known relevant documents to -inf\n",
    "    relevant_doc_idx = [doc_ids_inv[doc_id] for doc_id in relevant_doc_ids if doc_id in doc_ids_inv]\n",
    "    sim[0,relevant_doc_idx] = -np.inf\n",
    "    # set all documents outside the boundaries to -inf\n",
    "    sim = np.where(np.logical_and(sim <= upper_bound, sim >= lower_bound), sim, -np.inf)\n",
    "    # get the top k document ids with the highest similarity, filtering out -inf\n",
    "    top_sims_idx = np.argpartition(sim[0,:], -top_k)[-top_k:]\n",
    "    sims_with_idx = [(doc_ids[idx], s) for idx, s in zip(top_sims_idx, sim[0,:][top_sims_idx]) \n",
    "                     if s != -np.inf]\n",
    "    return sims_with_idx"
   ]
  },
  {
   "cell_type": "code",
   "execution_count": 82,
   "metadata": {},
   "outputs": [],
   "source": [
    "triplets = []\n",
    "for q_id, relevant_docs in relevance_judgements.items():\n",
    "    for pos_doc_id in relevant_docs:\n",
    "        if pos_doc_id not in doc_ids_inv:\n",
    "            continue\n",
    "        relevant_doc_vector = x[doc_ids_inv[pos_doc_id]]\n",
    "        sims_with_idx = get_top_k_similar(relevant_doc_vector=relevant_doc_vector, doc_vecs=x, relevant_doc_ids=relevant_docs, lower_bound=0.40)\n",
    "        sims_with_idx = sorted(sims_with_idx, key=lambda x:x[1], reverse=True)\n",
    "        for neg_doc_id, s in sims_with_idx:\n",
    "            triplets.extend(((q_id, pos_doc_id, neg_doc_id), s))"
   ]
  },
  {
   "cell_type": "code",
   "execution_count": 83,
   "metadata": {},
   "outputs": [
    {
     "data": {
      "text/plain": [
       "10772"
      ]
     },
     "execution_count": 83,
     "metadata": {},
     "output_type": "execute_result"
    }
   ],
   "source": [
    "# 9706\n",
    "len(triplets)"
   ]
  },
  {
   "cell_type": "code",
   "execution_count": 84,
   "metadata": {},
   "outputs": [
    {
     "data": {
      "text/plain": [
       "[('q06223196', 'doc062200205493', 'doc062201708464'),\n",
       " 0.5656752642847067,\n",
       " ('q06223196', 'doc062200205493', 'doc062200206319'),\n",
       " 0.4693844337219547,\n",
       " ('q062287', 'doc062200209981', 'doc062200201728'),\n",
       " 0.7384276989851657,\n",
       " ('q062287', 'doc062200209981', 'doc062200203904'),\n",
       " 0.7233468421353527,\n",
       " ('q062287', 'doc062200209981', 'doc062200202239'),\n",
       " 0.7110544130693836]"
      ]
     },
     "execution_count": 84,
     "metadata": {},
     "output_type": "execute_result"
    }
   ],
   "source": [
    "triplets[:10]"
   ]
  },
  {
   "cell_type": "code",
   "execution_count": 9,
   "metadata": {},
   "outputs": [
    {
     "name": "stdout",
     "output_type": "stream",
     "text": [
      "skipped 1142\n"
     ]
    }
   ],
   "source": [
    "skipped = 0\n",
    "for q_id, relevant_docs in relevance_judgements.items():\n",
    "    sims_with_idx = None\n",
    "    for rel_doc_id in relevant_docs:\n",
    "        if rel_doc_id not in doc_ids_inv:\n",
    "            skipped += 1\n",
    "            continue\n",
    "print(\"skipped\", skipped)"
   ]
  },
  {
   "cell_type": "code",
   "execution_count": 87,
   "metadata": {},
   "outputs": [],
   "source": [
    "def get_documents():\n",
    "    documents = {}\n",
    "    for file in os.listdir(document_folder)[80:100]:\n",
    "        with open(os.path.join(document_folder, file), \"r\") as fp:\n",
    "            data = json.load(fp)\n",
    "            for doc in data:\n",
    "                doc_id = doc['id']\n",
    "                documents[doc_id] = doc['contents']\n",
    "    return documents"
   ]
  },
  {
   "cell_type": "code",
   "execution_count": 93,
   "metadata": {},
   "outputs": [],
   "source": [
    "documents = get_documents()\n",
    "queries = read_queries()"
   ]
  },
  {
   "cell_type": "code",
   "execution_count": 98,
   "metadata": {},
   "outputs": [
    {
     "name": "stdout",
     "output_type": "stream",
     "text": [
      "Car shelter\n",
      "===== POS =====\n",
      "['Car shelter, campsite, terrace …\\nProtec Car\\nThis shelter car stable, lands on all sorts of terrain even elevated (No need for building permits)\\nNews 04\\nMar 2019\\nTerrace Shelter\\nParatou (Click here to enlarge)\\nCar shelter / terrace with deported foot for more space under the shelter.\\nShelter, carport...\\n28 Fév 2019 LE NOUVEAU CATALOGUE\\nCAR 2019\\n!! \\xa0 The new 2019 brochure is online, Check it out!!\\nYou will find all our...\\n28 Feb 2019\\nGarantie\\nProteccar\\nFrance\\nSTRUCTURE/OSSATURE SPECIFICATIONS:\\nStructure:\\nHot galvanized steel inside/outside (line... WHO ARE WE?\\nSpecialist in car shelters, car camps, terraces, boats and many other applications.\\nA simple, practical and economical solution that combines FULLY, SECURITY, CONFORT AND PRESTIGE.\\nCONTACT US\\nAbris\\nProtecCar\\nContact:\\n03 44 84 82 11 Fax: 03 44 84 48 68 100% French manufacturing (Made in France ) 20 years of experience in the manufacture of shelters No requirement to attach to the floor * Colours of customisable shelters * for certain products\\n\\n']\n",
      "===== NEG =====\n",
      "[\"Shelter car terrace / carport car / model\\nSt. Barthe's\\nShelter car terrace / carport car / model\\nSt Barthe From 5 183.95\\n€HT The shelter\\ncar\\ncarport ST\\nBARTHE\\nis part of our prestige range.\\nDesign shelter, aesthetic, very sturdy These self-stable car shelters, very heavy, can be found on all sorts of terrain, even in elevated positions.\\nOur car shelters, carports, have been tested in CSTB wind tunnel at winds up to 170 km/h (for a maximum height of 2m above the ground).\\nAt winds greater than 80km/h we recommend fixing the shelter on the ground.\\nThe structure of this car shelter is made of steel tube, tube 16 cm x 8 cm.\\nThe frame of the roof of this car shelter is alum profile 5 cm x 8 cm, the tensioning tubes under the roof are alum.\\nThe treatment of the materials of this carport car shelter is: sandblasting, zinc paint, epoxy paint finish baked in the oven.\\nIn order to avoid any corrosion problems, especially for areas located in a saline environment, we recommend a hot galvanizing treatment of the shelter before painting with stainless steel screws Cover of this shelter car\\n- carport - is made of woven polyester fibreglass, UV-resistant, double-sided PVC from -40° to +80°.\\nResistant to hail, rain, snow, sun, …\\n10-year warranty This shelter supports up to 40 cm of snow.\\nThe roofs of this shelter are adjustable in height and inclination.\\nThese car shelters – carport – considered mobile, do not require a building permit.\\nCONTACT US\\nAbris\\nProtecCar\\nContact:\\n03 44 84 82 11 Fax : 03 44 84 48 68\\n\\n\"]\n",
      "['Abri\\nCar\\nNot Dear All Kit Size \\ue5cd Car Shelter The Kitabris car shelter range is rich with wooden models promising outdoor resistance.\\nThese car shelters are a simple solution to having a roof over your car, protecting it from the elements.\\nThe wood carport, an ideal alternative to the masonry garage, is equipped with a flat or sloping roof.\\nPreserving your garden or terrace but also the architecture of your home, these shelters have a reduced floor area and adapt to all environments.\\nThe choice of construction, with a pitched roof, which guarantees resistance to the weather, depends on the vehicle.\\nThe carports are pricey products as light as their structure.\\nEvery choice of wooden model available at Kitabris, will be an awning worthy of a professional.\\nWhether it is used as an awning, a store, or as a simple blanket to store a vehicle or tools, this new available space, free of steel, PVC, or metal, is a perfect protection.\\nInformation about the delivery of our carports, their structure, the space occupied and the storage they allow as well as their dimensions are available from Kitabris, our tools offering a home and design solution to each garden.\\nIn search of a shelter, carport, garden blind of choice to avoid building a garage on your terrace, the models Kitabris for protection of vehicles with roof so convenient\\nare the shelter models and roof made for the car.\\nWood offers decidedly more strength than canvas, greater heat than aluminum, metal or steel, and is a practical product.\\nChoosing a Kitabris structure or carport for storage or for parking is a solution of choice.\\nCar Shelter There are 17 products.\\nCar shelter\\n12,65 m²\\nThis ingenious and simplified concept... \\ue547 Add to basket Price €4,250.00\\nShelter car 31 m² slope 50% The shelter car is a structure...\\nCar shelter 17,20m²\\nThis ingenious and simplified concept lets you... \\ue547 Add to the basket Car shelter 16 m² slope\\n30% This ingenious concept and...\\n\\ue547 Add to basket Price €3,250.00\\nCarport Auvent 2 Cars 30.25m²\\nThis two-bedroom car shelter is a...\\nCar shelter 16m² slope 50% This ingenious and simplified concept...\\nPrice €2,815.00\\nThis house / villa of 16 m² (about 1075 ft²), with a land size of...\\nCar shelter 16m² slope 30%This ingenious and simplified concept...\\n\\ue547 Add to basket Price €4,210.00\\nShelter car 31 m² slope 30 % The shelter car is a structure...\\nCarport Auvent\\n16.50m²\\nThis stylish car shelter is...\\nFrom the price of €990.00\\nCarport slope 15 m² This carport with sloped roof is structure...\\nSelect variant\\nFoot\\nof posts\\n:\\nAdjustable €1,116.00 \\ue547 Add to Carport basket of 15 m² with Bandeau This ingenious and... Select variant structure \\ue547 Add to basket © 2022\\n-\\xa0Kitabris\\n- Easy-to-assemble wooden kits\\n\\n']\n"
     ]
    }
   ],
   "source": [
    "print(queries[\"q06223196\"])\n",
    "print(\"===== POS =====\")\n",
    "print([documents['doc062200205493']])\n",
    "print(\"===== NEG =====\")\n",
    "print([documents['doc062201708464']])\n",
    "print([documents['doc062200206319']])"
   ]
  },
  {
   "cell_type": "code",
   "execution_count": 97,
   "metadata": {},
   "outputs": [
    {
     "name": "stdout",
     "output_type": "stream",
     "text": [
      "antivirus comparison\n",
      "===== POS =====\n",
      "[\"Best antivirus 2022 (comparative): Secure PC, Mac and smartphone Share Tweet\\nThe years pass and the threat of virus coming from the net continues to exponentially believe in the great lady of users.\\nAnti-virus software publishers block thousands of attacks every day: malware, exploit zero\\n-day, ransomware, crypto-jacking and other hacks have become commonplace.\\nNo one is spared, and this concerns both individuals and the largest companies.\\nThe hackers realized that the personal data had a very high value.\\nThis is why\\nthat they no longer hesitate to take them hostage or steal them in order to monetize their actions.\\nIt is then possible to sell this data on the dark net with an increased risk of subsequent hacks.\\nIn today’s world, having one of the best antiviruses on the market is essential.\\nThis will allow you to be protected at any time, without noticing. World No.1 (500 million customers)\\nDetects viruses, malware, phishing\\nFastest on the Market\\nSpecial offer: 60% discount 9.8 /10 See our test site Annual rate €16\\nAntivirus Plus €24\\nInternet\\nSecurity €32\\nTotal\\nSecurity\\nOur opinion: The best antivirus on all devices!\\nSpeed Safety\\nFunctionality\\nSimplicity\\nSupport\\nclient Quality\\n/ prices SEE + 1 number 1 on Mac 9.4\\n/10 See our test site Annual rate €19.99\\nMac Internet\\nSecurity\\nX9\\n€29.99\\nMac\\nPremium\\nBundle X9\\nOur Advice: The best antivirus on Mac with very advanced protection against 0-Day flaws\\nSpeed Safety\\nFunctionality\\nSimplicity\\nSupport\\nclient Quality\\n/ prices SEE + 2 Very popular on Windows Very complete antivirus suite 100% of threats blocked 9.1\\n/10 See our test site Annual rate €29.95 Individual €29.95 Multi-equipment €39.95\\nFamily\\nOur opinion: The historical reference of Windows security Vitesse Security\\nFunctionality\\nSimplicity\\nSupport\\nclient Quality\\n/ prices SEE + 3 Simple to use anti-virus Light on performance High protection scores 9\\n/10 See our test site Annual rate €29.99\\nKaspersky Anti-Virus €29.99\\nKaspersky Internet\\nSecurity\\n€49.99\\nKaspersky Total\\nSecurity\\nOur opinion:\\nThe Most Intuitive Antivirus on the Market Speed Security\\nFunctionality\\nSimplicity\\nSupport\\nclient Quality\\n/ prices SEE + 4 Free version effective 7.9\\n/10 See our test site Annual rate €39.99\\nPremium Security 1 device €49.99\\nPremium Security 10 aircraft €69.99\\nUltimate 1 aircraft €79.99\\nUltimate 10 aircraft\\nOur opinion:\\nThe best antivirus in the world simply!\\nSpeed Safety\\nFunctionality\\nSimplicity\\nSupport\\nclient Quality\\n/ prices SEE + 5 To secure data on a computer, tablet or smartphone, it is mandatory to take the best antivirus on Windows, Mac, iOS or Android.\\nOur antivirus comparison includes all the industry giants of the world like Bitdefender, Intego, Kaspersky, McAfee or even AVG.\\nFree antiviruses are excluded because they are limited and sometimes questionable.\\nIndeed, their economic model is not viable, some sell your data to finance themselves.\\nIntego\\nVirus Barrier\\n© Lemon Press.net\\nThis antivirus comparator will help you find the right solution that effectively meets your security needs, regardless of your device.\\nIn the list, all antivirus are compatible with Windows.\\nIntego which has long been the great reference on Mac (exclusively) has launched an antivirus on Windows of very high quality.\\nIt is not compatible with iOS or Android.\\nIn 2022, it is advisable to install an antivirus as soon as possible to protect against Internet threats on all connected devices you own at home.\\nWhether Apple or Google (Android), phones are also vulnerable to attack.\\nCi\\n-below, you have our list with the best antivirus available in France.\\nThe associated prices are sometimes for antivirus alone and sometimes for a complete security suite.\\nAs you can imagine, a free antivirus is not the right solution to address security.\\nIn this case, there is always a quid pro quo and most often it is your personal data.\\nIt is therefore better to agree to pay a small subscription of a few euros a month for software that will assure you of the seriousness and economic model of the company behind the antivirus.\\nBitdefender, Intego or McAfee\\nare all reliable partners you can trust\\n.\\nAntivirus\\nIf you haven’t yet subscribed to a good, effective antivirus, it’s no big deal: not only do antiviruses do prevention, but they also, as a bonus, identify and clean up viruses already present on an infected device – before quarantining any malware it detects.\\nThis applies equally to computers\\nto tablets, smartphones or any other connected devices.\\nThe best advice is to assume that everything that connects to the Internet can be the victim of computer attacks.\\nOnce you have installed the antivirus software, you will need to do a complete analysis of all the files on your computer to find the files, programs, and other pieces of malicious code and quarantine them (that is, separate them from the others so that they do not infect them).\\nThis is all the more crucial if your computer is a bit old and slow – which can be a sign of malware.\\nOnce this task is done, the best antivirus you can find in this comparison will then do prevention by alerting you to any sensitive files discovered on your computer.\\nIt can analyze your PC in depth as well as your other connected objects such as smartphones, fridges or tablets.\\nTop 5 best\\nantivirus 2022: Bitdefender Total\\nSecurity\\nFree UST, CCCT, LDCT, GPT, MT, MUST, CIAT, CT, CRT:\\nAntivirus Plus: €12 per year (instead of €39.99)\\nTotal Security tariff: €24 per year (instead of €79.99)\\nVisit the site:\\nbitdefender.fr Best\\nantivirus 2022 in France Bitdefender has more than 500 million customers worldwide, and is a huge success for its 360-degree solution Total Security\\n.\\nWe have been using it for a long time and the offer offered by Bitdefender is as good as ever.\\nThe company also has a classic antivirus that is only available on Windows (PC) computers and for a single license.\\nThe Bitdefender Total Security suite is compatible with Windows, macOS, Android and iOS, and can be installed on 5 devices simultaneously.\\nThe “Family” version\\nPack” allows unlimited use of the number of devices for what is one of the best antivirus on the French market.\\nA way to add antivirus to all devices in your home.\\nBitdefender Total\\nSecurity\\nincludes a wide range of tools that are easily controlled from a clear and efficient interface.\\nThese include a continuously updated antivirus, a ransomware management system, free support, a Wi-Fi security assistant, a truly highly secure system for online shopping, an anti-phising and anti-fraud system, a quality firewall, a parental control tool or a digital safe.\\nNote that like many solutions available in 2022, the Bitdefender offers include basic VPN access limited to 300 MB per day.\\nThe presence of this access has no purpose other than to help you secure your connection in public places.\\nNote, however, that this envelope is very quickly fair.\\nIf you are often on the go, we recommend you to opt for Bitdefender's premium VPN service.\\nIn addition to breaking the data limit, you will have access to hundreds of servers around the world to access sites normally blocked from France such as Netflix US.\\nYou will also be able to mask your IP address on up to 10 devices simultaneously.\\nThe service costs less than €2.50 per month.\\nGiven its benefits and its competitiveness against the pure players of VPN access, we can only recommend it.\\nIn 2020, Bitdefender was voted for the 3rd consecutive year “best antivirus” by AV-Comparatives, an Anglo-Saxon benchmark in cybersecurity.\\n2-\\nIntego Internet\\nSecurity X9\\nThe Best Antivirus 2022\\nif you have a Mac Total Security Rate: €19.99 Visit the website: intego.com In 25 years, Intego has become the go-to antivirus for all Mac users.\\nToday it is the only security solution on the market to detect 100% of malware on Mac but also on iPhone.\\nUnlike its competitors who carry their Windows antivirus on the Mac, Intego has from the very beginning been optimized for the macOS operating system.\\nSince May 2022, it also offers an ultra efficient version on Windows and we were seduced (and whose price is ultra advantageous).\\nOn the other hand, if you have an iOS or Android smartphone, it will not be possible to use this high-end antivirus.\\nIt’s a shame because it’s an excellent antivirus on computers.\\nAs far as value for money is concerned, you won't be able to find anything better.\\nIt is the best Mac antivirus on the market for both threat detection and value for money.\\nBy default, you can get the Mac Internet Security X9 at a discounted price.\\nOn the same principle as its rivals, it offers an even more comprehensive security solution called Mac Premium Bundle X9.\\nOn Mac, Antivirus\\nIntego is the ultimate reference: This includes the famous antivirus, a firewall, Mac cleaning software, a parental control solution\\n\\n\"]\n",
      "===== NEG =====\n",
      "[\"Best antivirus 2022: which antivirus to choose for Windows 11 and 10?\\n– Le Crabe Info Le Crabe 01/10/21: update of antivirus ranking with latest AV-Comparatives tests.\\nWhat is the best antivirus in 2022?\\nWhich antivirus to choose for Windows 11 or Windows 10?\\nAntivirus free or paid?\\nHere are all the questions you have when choosing the security software you need for a Windows PC: antivirus.\\nWith all the offers available on the market, it is sometimes difficult to make a choice and know which antivirus to choose.\\nAnd by installing the wrong antivirus, your computer may be compromised and infected with viruses and malware.\\nIn this article, we will look at how to choose a good antivirus, the right antivirus and the best antivirus for Windows PC based on the results of tests conducted by independent organizations.\\nExecutive Summary\\nWhy do I need to install an antivirus?\\nAn antivirus protects a computer from viruses and malware that thrive on the Internet.\\nIts goal is to detect and neutralize viruses before they enter and contaminate the system.\\nIt’s THE security software you need to install, especially on a Windows PC.\\nIndeed, since Windows is by far the most popular operating system, it is the No. 1 target of hackers and their viruses.\\nAntivirus is all the more essential as the threats multiply and diversify: Trojan horses, rootkits, ransomwares, etc.\\nToday we talk about malware (malware) to qualify all computer threats (of which viruses are a part).\\nAnti-virus software has adapted and is now able to protect computers from all types of malware.\\nThey no longer just eradicate viruses: they act as antivirus but also as anti-trojans, anti-rootkits, anti-ransomwares…\\nThey are now anti-malware, although many retain their appellation of origin\\n“Antivirus”, more commercial.\\nChoosing your antivirus\\nThe Criteria for Properly Choosing Antivirus For an antivirus to be considered good, it must meet several criteria: it must be effective in detecting and removing viruses: the software’s anti-virus engine must be capable of detecting known viruses and alerting you when a suspicious action occurs on the system.\\nThey must also be able to remove or quarantine the viruses they have detected.\\nIts viral database must also be up to date with the latest known threats.\\nLittle impact on system performance: since anti-virus software must constantly monitor the system, it must use system resources (CPU, RAM).\\nA good antivirus doesn't need to eat all these resources or it will slow down Windows and make your computer difficult to use.\\nLittle false positive detection: a false positive is a detection error where the antivirus believes that a file is malicious when it is healthy.\\nA good antivirus must know how to detect real threats as much as possible.\\nIt should not alert you for nothing or worse delete/quarantine healthy personal or system files.\\nEasy to use: a good antivirus must have an intuitive, easy-to-use interface in which it is easy to access the various functionalities.\\nThe user needs to understand what the antivirus does, an integrated manual or informative bubbles are a plus.\\nAntivirus free or paid?\\nFree and paid antivirus offer the same level of protection from viruses and malware.\\nThere are, however, three important differences between free and paid antivirus: The confidentiality of the user’s personal data.\\nProtection features.\\n> Confidentiality To finance the development and in return for free antivirus software, some publishers collect data on their users for resale to companies.\\nYes, when it’s free, it’s your product.\\nRecently, it was Avast Software – the publisher of Avast and AVG antivirus software – that made the news.\\nIt has been reported that the publisher has been collecting the web browsing data of their users for years.\\nOnly users of the free version of Avast and AVG are affected by this commercial exploitation of their data.\\nOn the paid version, no data is collected.\\nAvast Free Data Collection\\nAntivirus\\nWhile users have always had the option to opt out of sharing their data, this required digging into the software options.\\nGood point, Avast Software has recently implemented an explicit opt-in or opt-out option on data collection when installing free versions of Avast and AVG.\\nAvast and AVG are not isolated cases; other free antivirus software does the same.\\nTo sum up: with free antivirus, your personal data is collected and sold.\\nWith a paid antivirus, no data collection is done.\\n> Functionality\\nPaid antiviruses have more security-related features than their free counterparts.\\nConsider the Avast antivirus: Avast\\nFree\\nAntivirus (the free version) blocks viruses and other malware, detects network vulnerabilities and has a password manager.\\nAvast\\nPremium\\nSecurity (the paid version)\\nhas the same features + protects against DNS hacking, integrates a sandbox, blocks unwanted e-mails, integrates an advanced firewall, blocks ransomwares, integrates an automatic application update tool …\\nAvast:\\nfree vs. paid antivirus As you can see, paid antivirus protects computers on many fronts while free antivirus does the minimum.\\nEven so, the level of protection from malware between a free and a paid antivirus is identical.\\n>\\nAdvertising Unlike paid antiviruses, free antiviruses display advertising in Windows.\\nMost often, they are advertisements related to the publisher’s products.\\nGTA ads\\nAntivirus\\nDepending on your tolerance for advertising\\n, the choice of a paid antivirus can be synonymous with tranquillity.\\nWhich solution : Antivirus, Internet Security, Total Security… ?\\nAnti-virus software is available in several versions.\\nMost of the time there is a free version and several paid versions.\\nFor example, at Kaspersky Lab, four versions of Kaspersky antivirus are available: Kaspersky Anti-Virus (free);\\nKaspersky Internet\\nSecurity (\\npayant – €);\\nKaspersky Total\\nSecurity (\\npayant – €€);\\nKaspersky Security Cloud (paying - €€).\\nKaspersky Antivirus Solutions The choice of one version over another will depend on the areas where you need to be protected.\\nDepending on the version chosen, in addition to the anti-virus module (which protects malicious software and websites), you will have access to: protection against malicious e-mails (spam, phishing…);\\nan advanced firewall that blocks all programs that have not been explicitly allowed to communicate over the Internet, thus preventing malware from downloading malicious content.\\nUnlike the Windows firewall, it automatically blocks outgoing connections.\\na sandbox which allows software to be run in a secure environment without the risk of it infecting the system;\\n… The aggregation of all these modules forms what is known as a security suite, often referred to by antivirus publishers as Internet Security, Total Security or Premium Security.\\nWhat is the BEST antivirus?\\nThe answer is simple: there is no better antivirus.\\nOf all the antiviruses available, none are waterproof.\\nViruses and other malware mutate, evolve constantly and always have a head start.\\nIt is always up to antivirus to adapt to new threats that do damage before antivirus publishers find solutions to block them and users update their antivirus software.\\nAll antivirus publishers\\nThere is no better\\nantivirus”, the holy grail so much sought by many Internet users.\\nEach antivirus has its strengths and weaknesses, they are all more or less effective in detecting a certain type of malware, the ability to neutralize them, to block malicious websites, to have a measured impact on the performance of the system…\\nThere is no one antivirus that beats all others.\\nThere are only antiviruses better than others in some areas.\\nWindows Defender\\nIf you are on Windows 11 or Windows 10, be aware that this one includes natively an antivirus made in Microsoft: Windows Defender.\\nWindows Defender\\nAntivirus\\nin Windows 10\\nAccording to tests conducted by AV-Comparatives, Windows Defender obtains\\ngood results in detecting and suppressing viruses and other malware\\n.\\nHowever, it has a fairly high false post detection rate and can have a negative impact on the performance of the system: it is indeed rather handicapping when copying files (so be careful if you make regular backups) and when performing ZIP archive compression/decompression processes.\\nSo you can do with it to protect your PC from viruses.\\nUsing another free antivirus such as Avast\\nFree\\nAntivirus can be useful to you (it scores higher in virus detection/suppression, false positives and performance)\\nif you need it.\\nExpectation\\n\\n\"]\n",
      "['The best antivirus to install on your PC\\n- The Digital\\nThe best antivirus to install on your PC How to choose your antivirus software?\\nBy\\xa0 Clic2Load Published on 04/05/19 at 4:00 PM Share: Comment (3)\\n3 7 Choosing the best antivirus is essential to protect your PC effectively.\\nAnti-virus software must analyze the PC system, identify threats and remove them.\\nZoom in on the best antivirus of the moment.\\nThis content was created by our partner Clic2Load.\\nThe Internet is a necessary and dangerous means of communication because it exposes terminals to many viruses.\\nWith the number of attacks increasing day by day, it is more and more difficult to protect his PC.\\nThis is why anti-virus software must be ever more effective in securing our computers.\\nThus, the choice of an antivirus is an important step that must correspond to everyone\\'s needs while allowing for secure browsing on the Internet.\\nWhat is an antivirus?\\nAn antivirus is software designed to protect a computer.\\nIt protects the user\\'s privacy as well as banking data and other information stored in the computer.\\nThis software is designed to analyze the system by detecting threats and problems caused by malicious code.\\nHe then proposes to eliminate them and protect himself from them.\\nHowever, antivirus does not have the same performance and the differences relate to several points: their ability to analyse the different types of threats (spyware or malware);\\nthe number of problems that can be identified;\\nhow the software will handle the detected viruses.\\nThe best antivirus is one that is able to analyze the system thoroughly and suppress all types of viruses detected.\\nWhy do I need to install an antivirus?\\n©\\nMohamed Hassan\\nVirus creators are looking every day for new ways to access personal or professional data on computers and devices connected over the Internet.\\nFortunately, security software develops effective updates to protect against malware, ransomwares, phishing scams and other types of viruses.\\nHowever, not all anti-virus software has the same functionality.\\nStandard anti-virus systems are capable of analyzing a system, detecting threats and repairing them.\\nAs for problem management, the best antivirus can quarantine threats when they can\\'t completely remove them.\\nPreference for free or paid antivirus?\\n©\\nMohamed Hassan\\nThe best antivirus use innovative security tools combined with high-performance features.\\nEasy to use, they also offer excellent value for money.\\nTo choose effective protection against recent threats, it is necessary to invest in powerful anti-virus systems that offer comprehensive solutions.\\nFee-for-service services include an antispam filter, advanced firewalls and parental control.\\nFor businesses, professional antivirus is available by subscription and offers tailored features.\\nChoosing the best antivirus does not mean spending more money.\\nIt is possible to choose free and high-performance antiviruses, such as Bitdefender Antivirus\\nFree\\nEdition or Kaspersky Free.\\nOur Selection of Anti-Viruses to Protect a PC Each antivirus from the following list was chosen for its effective capabilities and functionality\\n, all at a good quality ratio\\n-price.\\nBitdefender AntiVirus Plus 2019\\n© Bitdefender Reliable and accurate, the Bitdefender Plus 2019 antivirus has web filtering to prevent access to malicious sites.\\nIt is a secure system that protects online banking and shopping with a powerful password manager.\\nThis software is also valued for its anti-phishing module, which detects malicious links in search engine results and prevents access to dangerous sites.\\nFor its 2019 version, this security software is distinguished by the multilayer protection against ransomwares with the possibility to analyze linked devices through the mobile application Bitdefender Central.\\nWith publishing Total\\nSecurity 2019, the antivirus system allows to cover up to five PCs or Macs as well as all Android and iOS devices.\\nThe annual subscription is 29.99€ for a device.\\n©\\nNorton\\nRemarkable features of the software\\nNorton\\nAntivirus Basic ranges from financial security to advanced privacy protection.\\nIt is an anti-virus system that effectively blocks malicious software.\\nThanks to the URL blocker, malicious websites are no longer to be feared.\\nSuspicious downloads are also quickly detected and stopped.\\nEven if the malware finds a way to penetrate the computer system, internal surveillance allows the threats to be quarantined.\\nSimple to use, Norton Antivirus\\nAntivirus Basic offers configurations appreciated by professionals and individuals.\\nThe subscription for a device is 29.99€ per year.\\n©\\nWebroot\\nExtremely light on the system, the Webroot SecureAnywhere program\\nAntiVirus\\noccupies little space on the hard drive and does not clutter RAM memory.\\nIn addition to analyzing the system, it provides intelligent monitoring of malware with effective anti-phishing, firewall and network connection monitor, advanced anti-ransomware and other interesting features.\\nThe cost of an appliance is €34.99 per year.\\n©\\nNOD32\\nComes with a real-time malware protection module, ESET antivirus\\nNOD32 is one of the best protection systems against various attacks on the Internet.\\nIt features an anti-ransomware layer, URL filtering to ban malicious websites and modules that prevent attacks with PowerShell and other malicious scripts.\\nIt also offers a device control module to limit the risk of infection from other devices (USB, hard drive and devices connected via Bluetooth and FireWire).\\nThis security ally is accessible with an annual subscription of €11.63 per protected post.\\n©\\nKaspersky\\nPerformantly, Kaspersky Anti-Virus software is based on the essential elements of security.\\nIt has effective Internet filtering that blocks malicious URLs.\\nCapable of suppressing threats, it is equipped with intelligent surveillance technology.\\nIn addition, this program is simple to use and is ideal for beginners and experts alike.\\nReliable and consistent, Kaspersky antivirus is available from €39.95 per year.\\n© Avast Easy to use and free, Avast Anti-Virus software blocks different types of hazards, including malware and spyware.\\nIt also proves effective in stopping the sending or receiving of potentially infected emails, as well as features designed to monitor files and programs that block suspicious ones.\\nIn 5 minutes, the Smart Scan analyzes\\nthe state of the computer and then fixes any problems\\n.\\nAdditional modules can be added to optimize the overall security of the PC.\\nAlso read: 17 NEWS: Applis and Software\\nOur Clic2Load tutorials\\nare they masked sponsored articles?\\nFor the past few months, we have been publishing tutorials and folders written by Clic2Load.\\nSome of our readers have shared their...\\n2 years ago\\nShare: Comment (3) Published: 04/05/19 at 4:00 PM Comments (3)\\nCaiRve 9 May 2019,10:13 Where have the comments gone?\\nNow you delete comments on articles?\\nLeMoi 9 May 2019,12:58 Too bad, you don\\'t quote Kaspersky Free, which is very efficient, light, high-performance, without many useless modules, and above all… free!\\ncraquetp 21 November 2019,22:46 1/ which says PC doesn’t necessarily say Windows, let’s stop confusing, no mention of “windows” in the article… 2/ No mention of antivirus embedded in Windows 10, Windows Defender, now among the best, if not the best, antivirus on the market, still free and has the best integration to Windows 10 since functionality embedded in the latter, sometimes disabled by free Symantec 15 days added in mod\\nAlder\\nLake\\nmake a shattering entry File by Régis Jehl View all files Tutorial 1 Computer 2 months ago Tuto – How to easily install Windows 11 Tutorial by Régis Jehl\\nSee also:\\nAll tutorials Advertising: SIN 3 days ago Synology helps professionals better manage their data Sponsored file Advertising\\nTest 2: Portable Computers Yesterday at 14:00\\nAsus VivoBook\\nS15\\nOled:\\na laptop that puts a lot on its screen From €807.90 See all the tests News\\nGood NEWS plans: Disc\\nexternal tough\\n–\\nThe Crucial X6 external DSS\\n4 TB \"4 stars\" at 402.99€ (-11%) 08:16\\nView all news\\n\\n']\n"
     ]
    }
   ],
   "source": [
    "print(queries[\"q062287\"])\n",
    "print(\"===== POS =====\")\n",
    "print([documents['doc062200209981']])\n",
    "print(\"===== NEG =====\")\n",
    "print([documents['doc062200201728']])\n",
    "print([documents['doc062200203904']])"
   ]
  },
  {
   "cell_type": "code",
   "execution_count": null,
   "metadata": {},
   "outputs": [],
   "source": []
  }
 ],
 "metadata": {
  "kernelspec": {
   "display_name": "kodicare",
   "language": "python",
   "name": "python3"
  },
  "language_info": {
   "codemirror_mode": {
    "name": "ipython",
    "version": 3
   },
   "file_extension": ".py",
   "mimetype": "text/x-python",
   "name": "python",
   "nbconvert_exporter": "python",
   "pygments_lexer": "ipython3",
   "version": "3.8.16"
  },
  "orig_nbformat": 4
 },
 "nbformat": 4,
 "nbformat_minor": 2
}
